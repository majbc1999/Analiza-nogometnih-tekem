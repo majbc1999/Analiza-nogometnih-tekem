{
 "metadata": {
  "language_info": {
   "codemirror_mode": {
    "name": "ipython",
    "version": 3
   },
   "file_extension": ".py",
   "mimetype": "text/x-python",
   "name": "python",
   "nbconvert_exporter": "python",
   "pygments_lexer": "ipython3",
   "version": "3.8.6-final"
  },
  "orig_nbformat": 2,
  "kernelspec": {
   "name": "python3",
   "display_name": "Python 3.8.6 32-bit",
   "metadata": {
    "interpreter": {
     "hash": "8381f7fa8fcf3190ad5652abace1130d822ec84fbd9f788dacf6dac545b9d067"
    }
   }
  }
 },
 "nbformat": 4,
 "nbformat_minor": 2,
 "cells": [
  {
   "cell_type": "code",
   "execution_count": 7,
   "metadata": {},
   "outputs": [],
   "source": [
    "# Uvozimo vse knjižnice za delo\n",
    "\n",
    "import pandas as pd\n",
    "import matplotlib.pyplot as plt"
   ]
  },
  {
   "cell_type": "code",
   "execution_count": 9,
   "metadata": {},
   "outputs": [],
   "source": [
    "# Uvozimo vse tabele\n",
    "\n",
    "laliga = pd.read_csv('obdelani-podatki/laliga.csv')\n",
    "premier_league = pd.read_csv('obdelani-podatki/premier_league.csv')\n",
    "seriea = pd.read_csv('obdelani-podatki/seriea.csv')"
   ]
  },
  {
   "cell_type": "code",
   "execution_count": null,
   "metadata": {},
   "outputs": [],
   "source": [
    "# Vse tabele združimo v eno samo\n",
    "\n",
    "frames = [laliga, premier_league, seriea]\n",
    "\n",
    "league = pd.concat(frames)"
   ]
  }
 ]
}